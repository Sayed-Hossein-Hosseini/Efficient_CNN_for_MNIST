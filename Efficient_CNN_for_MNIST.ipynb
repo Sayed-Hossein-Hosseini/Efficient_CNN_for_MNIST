{
  "nbformat": 4,
  "nbformat_minor": 0,
  "metadata": {
    "colab": {
      "provenance": [],
      "gpuType": "T4",
      "authorship_tag": "ABX9TyNEJyJm1vpkPDXNw633emw2",
      "include_colab_link": true
    },
    "kernelspec": {
      "name": "python3",
      "display_name": "Python 3"
    },
    "language_info": {
      "name": "python"
    },
    "accelerator": "GPU"
  },
  "cells": [
    {
      "cell_type": "markdown",
      "metadata": {
        "id": "view-in-github",
        "colab_type": "text"
      },
      "source": [
        "<a href=\"https://colab.research.google.com/github/Sayed-Hossein-Hosseini/Efficient_CNN_for_MNIST/blob/master/Efficient_CNN_for_MNIST.ipynb\" target=\"_parent\"><img src=\"https://colab.research.google.com/assets/colab-badge.svg\" alt=\"Open In Colab\"/></a>"
      ]
    },
    {
      "cell_type": "markdown",
      "source": [
        "# **Efficient CNN for MNIST**"
      ],
      "metadata": {
        "id": "F39trtkk52RA"
      }
    },
    {
      "cell_type": "markdown",
      "source": [
        "## **Libraries**"
      ],
      "metadata": {
        "id": "brG2924Q5794"
      }
    },
    {
      "cell_type": "code",
      "source": [
        "import torch\n",
        "import torch.nn as nn\n",
        "import torch.nn.functional as F\n",
        "import torchvision\n",
        "import torchvision.transforms as transforms\n",
        "from torch.utils.data import DataLoader\n",
        "import torch.optim as optim"
      ],
      "metadata": {
        "id": "MOqIIkNi7pPZ"
      },
      "execution_count": 1,
      "outputs": []
    },
    {
      "cell_type": "markdown",
      "source": [
        "## **Dataset**"
      ],
      "metadata": {
        "id": "ATHMe1Y56vua"
      }
    },
    {
      "cell_type": "code",
      "source": [
        "# Dataset\n",
        "transform = transforms.Compose([transforms.ToTensor()])\n",
        "\n",
        "train_set = torchvision.datasets.MNIST(root='./data', train=True, download=True, transform=transform)\n",
        "test_set = torchvision.datasets.MNIST(root='./data', train=False, download=True, transform=transform)\n",
        "\n",
        "train_loader = DataLoader(train_set, batch_size=64, shuffle=True)\n",
        "test_loader = DataLoader(test_set, batch_size=1000, shuffle=False)"
      ],
      "metadata": {
        "id": "ruxqaSGi7BFN"
      },
      "execution_count": 2,
      "outputs": []
    },
    {
      "cell_type": "markdown",
      "source": [
        "## **Model (LightCNN)**"
      ],
      "metadata": {
        "id": "WBkm-F2J6MQ_"
      }
    },
    {
      "cell_type": "code",
      "source": [
        "class LightCNN(nn.Module):\n",
        "    def __init__(self):\n",
        "        super(LightCNN, self).__init__()\n",
        "\n",
        "        self.conv1 = nn.Conv2d(1, 8, kernel_size=3, padding=1)  # OutPut: 8x28x28\n",
        "        self.conv2 = nn.Conv2d(8, 16, kernel_size=3, padding=1) # OutPut: 16x14x14\n",
        "        self.pool = nn.MaxPool2d(2, 2)\n",
        "\n",
        "        self.conv3 = nn.Conv2d(16, 32, kernel_size=3, padding=1) # OutPut: 32x7x7\n",
        "\n",
        "        self.global_pool = nn.AdaptiveAvgPool2d(1)  # OutPut: 32x1x1\n",
        "\n",
        "        self.fc = nn.Linear(32, 10)\n",
        "\n",
        "    def forward(self, x):\n",
        "        x = self.pool(F.relu(self.conv1(x)))\n",
        "        x = self.pool(F.relu(self.conv2(x)))\n",
        "        x = F.relu(self.conv3(x))\n",
        "        x = self.global_pool(x)\n",
        "        x = x.view(-1, 32)\n",
        "        x = self.fc(x)\n",
        "        return x"
      ],
      "metadata": {
        "id": "EKWwPqi-6Mf-"
      },
      "execution_count": 3,
      "outputs": []
    }
  ]
}